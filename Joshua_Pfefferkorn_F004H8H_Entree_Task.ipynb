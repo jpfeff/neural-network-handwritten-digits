{
 "cells": [
  {
   "cell_type": "markdown",
   "metadata": {},
   "source": [
    "# Entree Task: Implementing Your Own Neural Networks from Scratch"
   ]
  },
  {
   "cell_type": "code",
   "execution_count": 3,
   "metadata": {},
   "outputs": [],
   "source": [
    "import math\n",
    "import numpy as np\n",
    "from matplotlib import pyplot as plt # for graphics"
   ]
  },
  {
   "cell_type": "markdown",
   "metadata": {},
   "source": [
    "## Task 1: Linear Layer \n",
    "Implement the forward and backward functions for a linear layer. Please read the requirement details for Task 1 in the code comment and in the pdf document."
   ]
  },
  {
   "cell_type": "code",
   "execution_count": 4,
   "metadata": {},
   "outputs": [],
   "source": [
    "class LinearLayer:\n",
    "    def __init__(self, _m, _n):\n",
    "        '''\n",
    "        :param _m: _m is the input X hidden size\n",
    "        :param _n: _n is the output Y hidden size\n",
    "        '''\n",
    "        # \"Kaiming initialization\" is important for neural network to converge. The NN will not converge without it!\n",
    "        self.W = (np.random.uniform(low=-10000.0, high=10000.0, size = (_m, _n)))/10000.0*np.sqrt(6.0/ _m)\n",
    "        self.stored_X = None\n",
    "        self.W_grad = None #record the gradient of the weight\n",
    "\n",
    "    def forward(self, X):\n",
    "        '''\n",
    "        :param X: shape(X)[0] is batch size and shape(X)[1] is the #features\n",
    "         (1) Store the input X in stored_data for Backward.\n",
    "         (2) :return: X * weights\n",
    "        ''' \n",
    "        # store input X to use in the backward function\n",
    "        self.stored_X = X\n",
    "        \n",
    "        # multiply the input X by the weight W to forward the data to the next layer\n",
    "        return X @ self.W\n",
    "\n",
    "    def backward(self, Y_grad):\n",
    "        '''\n",
    "        /* shape(output_grad)[0] is batch size and shape(output_grad)[1] is the # output features (shape(weight)[1])\n",
    "         * 1) Calculate the gradient of the output (the result of the Forward method) w.r.t. the **W** and store the product of the gradient and Y_grad in W_grad\n",
    "         * 2) Calculate the gradient of the output (the result of the Forward method) w.r.t. the **X** and return the product of the gradient and Y_grad\n",
    "         */\n",
    "        '''\n",
    "        \n",
    "        # multiply the transpose of the stored input X by the partial derivative of the loss \n",
    "        # with respect to the layer’s output Y to find the partial derivative of the loss \n",
    "        # with respect to the layer’s weight W\n",
    "        \n",
    "        self.W_grad = self.stored_X.T @ Y_grad\n",
    "        \n",
    "        # multiply partial derivative of the loss with respect to the layer’s output Y\n",
    "        # by the transpose of the weight W to find the partial derivative of the loss \n",
    "        # with respect to the layer’s input X\n",
    "        \n",
    "        return Y_grad @ self.W.T\n"
   ]
  },
  {
   "cell_type": "markdown",
   "metadata": {},
   "source": [
    "## Checkpoint 1: Linear Layer\n",
    "Check your linear forward and backward function implementations with numerical derivatives.\n"
   ]
  },
  {
   "cell_type": "code",
   "execution_count": 5,
   "metadata": {},
   "outputs": [
    {
     "name": "stdout",
     "output_type": "stream",
     "text": [
      "Your gradient:  [[0.05228396 1.02970509 0.38884077]]\n",
      "Numerical gradient: [[0.05228396 1.02970509 0.38884077]]\n",
      "Error:  8.170986109945488e-11\n",
      "Correct backward. Congratulations!\n"
     ]
    }
   ],
   "source": [
    "#gradient check\n",
    "import copy\n",
    "#Random test\n",
    "n = 3\n",
    "m = 6\n",
    "Y_grad = np.random.rand(1, m)\n",
    "test_vector = np.random.rand(1, n)\n",
    "DELTA = 1e-6\n",
    "test_layer = LinearLayer(n, m)\n",
    "\n",
    "test_layer_1 = copy.deepcopy(test_layer)\n",
    "test_layer_2 = copy.deepcopy(test_layer)\n",
    "\n",
    "test_layer.forward(test_vector)\n",
    "Your_backward = test_layer.backward(Y_grad)\n",
    "\n",
    "cal_gradient = np.zeros((np.shape(test_vector)[0], np.shape(test_vector)[1]))\n",
    "for t_p in range(np.shape(test_vector)[0]):\n",
    "    for i in range(np.shape(test_vector)[1]):\n",
    "        test_vector_1 = copy.deepcopy(test_vector)\n",
    "        test_vector_2 = copy.deepcopy(test_vector)\n",
    "        test_vector_1[t_p][i] = test_vector_1[t_p][i] + DELTA\n",
    "        test_vector_2[t_p][i] = test_vector_2[t_p][i] - DELTA\n",
    "\n",
    "        cal_gradient[t_p][i] = np.sum(\n",
    "            (np.dot(Y_grad, np.transpose(test_layer_1.forward(test_vector_1) - test_layer_2.forward(test_vector_2))/(2*DELTA))))\n",
    "\n",
    "\n",
    "print('Your gradient: ',Your_backward)\n",
    "print('Numerical gradient:',cal_gradient)\n",
    "print('Error: ',abs(np.sum(Your_backward - cal_gradient)))\n",
    "if abs(np.sum(Your_backward - cal_gradient)) < 1e-4:\n",
    "    print('Correct backward. Congratulations!')\n",
    "else:\n",
    "    print('Wrong backward. Please check your implementation again.')"
   ]
  },
  {
   "cell_type": "markdown",
   "metadata": {},
   "source": [
    "## Task 2: Non-Linear Activation\n",
    "Implement the forward and backward functions for a nonlinear layer. Please read the requirement details for Task 2 in the code comment and in the pdf document."
   ]
  },
  {
   "cell_type": "code",
   "execution_count": 6,
   "metadata": {},
   "outputs": [],
   "source": [
    "class ReLU:\n",
    "    #sigmoid layer\n",
    "    def __init__(self):\n",
    "        self.stored_X = None # Here we should store the input matrix X for Backward\n",
    "\n",
    "    def forward(self, X):\n",
    "        '''\n",
    "        /*\n",
    "         *  The input X matrix has the dimension [#samples, #features].\n",
    "         *  The output Y matrix has the same dimension as the input X.\n",
    "         *  You need to perform ReLU on each element of the input matrix to calculate the output matrix.\n",
    "         *  TODO: 1) Create an output matrix by going through each element in input and calculate relu=max(0,x) and\n",
    "         *  TODO: 2) Store the input X in self.stored_X for Backward.\n",
    "         */\n",
    "        '''\n",
    "        \n",
    "        ########## Code start  ##########\n",
    "        \n",
    "        # create an output matrix by performing ReLU on each element of the input matrix X\n",
    "        \n",
    "        # f(x) = {x if x>0\n",
    "        #        {0 if x<=0\n",
    "        \n",
    "        output = X\n",
    "        \n",
    "        for i in range(0, X.shape[1]):\n",
    "            if X[0,i] < 0:\n",
    "                output[0,i] = 0\n",
    "        \n",
    "        # store input X to use in the backward function\n",
    "        self.stored_X = X\n",
    "                \n",
    "        return output\n",
    "\n",
    "        ##########  Code end   ##########\n",
    "\n",
    "    def backward(self, Y_grad):\n",
    "        '''\n",
    "         /*  grad_relu(x)=1 if relu(x)=x\n",
    "         *  grad_relu(x)=0 if relu(x)=0\n",
    "         *\n",
    "         *  The input matrix has the name \"output_grad.\" The name is confusing (it is actually the input of the function). But the name follows the convension in PyTorch.\n",
    "         *  The output matrix has the same dimension as input.\n",
    "         *  The output matrix is calculated as grad_relu(stored_X)*Y_grad.\n",
    "         *  TODO: returns the output matrix calculated above\n",
    "         */\n",
    "        '''\n",
    "        \n",
    "        ########## Code start  ##########\n",
    "        \n",
    "        # output matrix should have same dimension as input, so grad_relu should be the same\n",
    "        # size as Y_grad\n",
    "        grad_relu = np.zeros((1,Y_grad.shape[1]))\n",
    "        \n",
    "        # f'(x) = {1 if x>0\n",
    "        #         {0 if x<=0\n",
    "        for i in range(0, self.stored_X.shape[1]):\n",
    "            if self.stored_X[0,i] <= 0:\n",
    "                grad_relu[0,i] = 0\n",
    "            else:\n",
    "                grad_relu[0,i] = 1\n",
    "            \n",
    "        # return this matrix multiplied by Y_grad (chain rule)\n",
    "        return grad_relu*Y_grad\n",
    "                \n",
    "\n",
    "        ##########  Code end   ##########"
   ]
  },
  {
   "cell_type": "markdown",
   "metadata": {},
   "source": [
    "## Checkpoint 2: ReLU \n",
    "Check your ReLU forward and backward functions "
   ]
  },
  {
   "cell_type": "code",
   "execution_count": 7,
   "metadata": {},
   "outputs": [
    {
     "name": "stdout",
     "output_type": "stream",
     "text": [
      "Your gradient:  [[0.27575362 0.54746556 0.87859149]]\n",
      "Numerical gradient: [[0.27575362 0.54746556 0.87859149]]\n",
      "Error:  1.854622011521201e-11\n",
      "Correct backward. Congratulations!\n"
     ]
    }
   ],
   "source": [
    "#gradient check\n",
    "import copy\n",
    "#Random test\n",
    "n = 3\n",
    "Y_grad = np.random.rand(1, n)\n",
    "test_vector = np.random.rand(1, n)\n",
    "DELTA = 1e-6\n",
    "test_layer = ReLU()\n",
    "\n",
    "test_layer_1 = copy.deepcopy(test_layer)\n",
    "test_layer_2 = copy.deepcopy(test_layer)\n",
    "\n",
    "test_layer.forward(test_vector)\n",
    "Your_backward = test_layer.backward(Y_grad)\n",
    "\n",
    "cal_gradient = np.zeros((np.shape(test_vector)[0], np.shape(test_vector)[1]))\n",
    "for t_p in range(np.shape(test_vector)[0]):\n",
    "    for i in range(np.shape(test_vector)[1]):\n",
    "        test_vector_1 = copy.deepcopy(test_vector)\n",
    "        test_vector_2 = copy.deepcopy(test_vector)\n",
    "        test_vector_1[t_p][i] = test_vector_1[t_p][i] + DELTA\n",
    "        test_vector_2[t_p][i] = test_vector_2[t_p][i] - DELTA\n",
    "\n",
    "        cal_gradient[t_p][i] = np.sum(\n",
    "            (np.dot(Y_grad, np.transpose(test_layer_1.forward(test_vector_1) - test_layer_2.forward(test_vector_2))/(2*DELTA))))\n",
    "\n",
    "\n",
    "print('Your gradient: ',Your_backward)\n",
    "print('Numerical gradient:',cal_gradient)\n",
    "print('Error: ',abs(np.sum(Your_backward - cal_gradient)))\n",
    "if abs(np.sum(Your_backward - cal_gradient)) < 1e-4:\n",
    "    print('Correct backward. Congratulations!')\n",
    "else:\n",
    "    print('Wrong backawrd. Please check your implementation again.')"
   ]
  },
  {
   "cell_type": "markdown",
   "metadata": {},
   "source": [
    "## Dessert Task: Non-Linear Activation, Leaky Rectified Linear Unit\n",
    "Implemented the forward and backward functions for a new nonlinear layer"
   ]
  },
  {
   "cell_type": "code",
   "execution_count": 8,
   "metadata": {},
   "outputs": [],
   "source": [
    "class LReLU:\n",
    "    #sigmoid layer\n",
    "    def __init__(self):\n",
    "        self.stored_X = None # Here we should store the input matrix X for Backward'\n",
    "        \n",
    "        # additional parameter to tweak\n",
    "        self.c = 0.001\n",
    "\n",
    "    def forward(self, X):\n",
    "        \n",
    "        # create an output matrix by performing LReLU on each element of the input matrix X\n",
    "        # f(x) = {x if x>=0\n",
    "        #        {cx if x<0\n",
    "        output = X\n",
    "        \n",
    "        for i in range(0, X.shape[1]):\n",
    "            if X[0,i] < 0:\n",
    "                output[0,i] *= self.c\n",
    "        \n",
    "        # store input X to use in the backward function\n",
    "        self.stored_X = X\n",
    "                \n",
    "        return output\n",
    "\n",
    "    def backward(self, Y_grad):\n",
    "                \n",
    "        # output matrix should have same dimension as input, so grad_lrelu should be the same\n",
    "        # size as Y_grad\n",
    "        grad_lrelu = np.zeros((1,Y_grad.shape[1]))\n",
    "        \n",
    "        # f'(x) = {1 if x>0\n",
    "        #         {c if x<=0\n",
    "        \n",
    "        for i in range(0, self.stored_X.shape[1]):\n",
    "            if self.stored_X[0,i] > 0:\n",
    "                grad_lrelu[0,i] = 1\n",
    "            else:\n",
    "                grad_lrelu[0,i] = self.c\n",
    "        \n",
    "        # return this matrix multiplied by Y_grad (chain rule)\n",
    "        return grad_lrelu*Y_grad\n",
    "                "
   ]
  },
  {
   "cell_type": "markdown",
   "metadata": {},
   "source": [
    "## Dessert Task: Non-Linear Activation, Flexible Rectified Linear Unit\n",
    "Implemented the forward and backward functions for a new nonlinear layer"
   ]
  },
  {
   "cell_type": "code",
   "execution_count": 9,
   "metadata": {},
   "outputs": [],
   "source": [
    "class FReLU:\n",
    "    #sigmoid layer\n",
    "    def __init__(self):\n",
    "        self.stored_X = None # Here we should store the input matrix X for Backward\n",
    "        self.b = 0.01\n",
    "\n",
    "    def forward(self, X):\n",
    "        # create an output matrix by performing FReLU on each element of the input matrix X\n",
    "        # f(x) = {x+b if x>0\n",
    "        #        {b if x<=0\n",
    "        \n",
    "        output = X\n",
    "        \n",
    "        for i in range(0, X.shape[1]):\n",
    "            if X[0,i] > 0:\n",
    "                output[0,i] += self.b\n",
    "            else:\n",
    "                output[0,i] = self.b\n",
    "            \n",
    "        \n",
    "        # store input X to use in the backward function\n",
    "        self.stored_X = X\n",
    "                \n",
    "        return output\n",
    "\n",
    "    def backward(self, Y_grad):\n",
    "                \n",
    "        # output matrix should have same dimension as input, so grad_frelu should be the same\n",
    "        # size as Y_grad\n",
    "        grad_frelu = np.zeros((1,Y_grad.shape[1]))\n",
    "        \n",
    "        # NOTE: this derivative is the same as ReLU's\n",
    "        \n",
    "        # f'(x) = {1 if x>0\n",
    "        #         {0 if x<=0\n",
    "        \n",
    "        for i in range(0, self.stored_X.shape[1]):\n",
    "            if self.stored_X[0,i] <= 0:\n",
    "                grad_frelu[0,i] = 0\n",
    "            else:\n",
    "                grad_frelu[0,i] = 1\n",
    "            \n",
    "        # return this matrix multiplied by Y_grad (chain rule)\n",
    "        return grad_frelu*Y_grad\n",
    "                "
   ]
  },
  {
   "cell_type": "markdown",
   "metadata": {},
   "source": [
    "## Dessert Task: Non-Linear Activation, Sigmoid function\n",
    "Implemented the forward and backward functions for a new nonlinear layer"
   ]
  },
  {
   "cell_type": "code",
   "execution_count": 10,
   "metadata": {},
   "outputs": [],
   "source": [
    "class sigmoid:\n",
    "    #sigmoid layer\n",
    "    def __init__(self):\n",
    "        self.stored_X = None # Here we should store the input matrix X for Backward\n",
    "\n",
    "    def forward(self, X):\n",
    "        # create an output matrix by performing the sigmoid function on each element of the input matrix X\n",
    "        \n",
    "        output = X\n",
    "        \n",
    "        # f(x) = 1/1+e^-x\n",
    "        for i in range(0, X.shape[1]):\n",
    "            output[0,i] = 1/(1+math.exp(output[0,i]*-1))\n",
    "        \n",
    "        # store input X to use in the backward function\n",
    "        self.stored_X = X\n",
    "                \n",
    "        return output\n",
    "\n",
    "    def backward(self, Y_grad):\n",
    "        \n",
    "        # output matrix should have same dimension as input, so grad_frelu should be the same\n",
    "        # size as Y_grad\n",
    "        grad_sigmoid  = np.zeros((1,Y_grad.shape[1]))\n",
    "        \n",
    "        # f'(x) = (1/1+e^-x) * [1 - (1/1+e^-x)]\n",
    "        for i in range(0, self.stored_X.shape[1]):\n",
    "            grad_sigmoid[0,i] = (1/(1+math.exp(grad_sigmoid[0,i]*-1))) * (1-(1/(1+math.exp(grad_sigmoid[0,i]*-1))))\n",
    "        \n",
    "        return grad_sigmoid*Y_grad\n",
    "                "
   ]
  },
  {
   "cell_type": "markdown",
   "metadata": {},
   "source": [
    "## Task 3: Loss Function\n",
    "Implement the MSE loss function and its backward derivative. Please read the requirement details for Task 3 in the code comment and in the pdf document. "
   ]
  },
  {
   "cell_type": "code",
   "execution_count": 11,
   "metadata": {},
   "outputs": [],
   "source": [
    "class MSELoss:\n",
    "    # cross entropy loss\n",
    "    # return the mse loss mean(y_j-y_pred_i)^2\n",
    "    \n",
    "    def __init__(self):\n",
    "        self.stored_diff = None\n",
    "    def forward(self, prediction, groundtruth):\n",
    "        '''\n",
    "        /*  TODO: 1) Calculate stored_data=pred-truth\n",
    "         *  TODO: 2) Calculate the MSE loss as the squared sum of all the elements in the stored_data divided by the number of elements, i.e., MSE(pred, truth) = ||pred-truth||^2 / N, with N as the total number of elements in the matrix\n",
    "         */\n",
    "        '''\n",
    "        \n",
    "        ########## Code start  ##########\n",
    "        \n",
    "        # store pred-truth\n",
    "        self.stored_diff = prediction - groundtruth\n",
    "\n",
    "        MSE = 0\n",
    "        \n",
    "        # loop over the matrix containing pred-truth values and square each one, adding them to MSE cumulatively\n",
    "        for i in range (0, self.stored_diff.shape[0]):\n",
    "            # add squared error for each element \n",
    "            MSE += (self.stored_diff[i,0])**2\n",
    "        \n",
    "        # divide by total number of elements in matrix\n",
    "        MSE /= self.stored_diff.shape[0]\n",
    "        \n",
    "        return MSE\n",
    " \n",
    "        ##########  Code end   ##########\n",
    "\n",
    "    # return the gradient of the input data\n",
    "    def backward(self):\n",
    "        '''\n",
    "        /* TODO: return the gradient matrix of the MSE loss\n",
    "         * The output matrix has the same dimension as the stored_data (make sure you have stored the (pred-truth) in stored_data in your forward function!)\n",
    "         * Each element (i,j) of the output matrix is calculated as grad(i,j)=2(pred(i,j)-truth(i,j))/N\n",
    "         */\n",
    "        '''\n",
    "        \n",
    "        ########## Code start  ##########\n",
    "        \n",
    "        # return (2/N)(pred-truth)\n",
    "        return (2/self.stored_diff.shape[0])*(self.stored_diff)\n",
    "        \n",
    "        ##########  Code end   ##########"
   ]
  },
  {
   "cell_type": "markdown",
   "metadata": {},
   "source": [
    "## Task 4: Network Architecture\n",
    "Implement your own neural network architecture. Please read the requirement for Task 4 in the pdf document."
   ]
  },
  {
   "cell_type": "code",
   "execution_count": 12,
   "metadata": {},
   "outputs": [],
   "source": [
    "class Network:\n",
    "    def __init__(self, layers_arch):\n",
    "        '''\n",
    "        /*  TODO: 1) Initialize the array for input layers with the proper feature sizes specified in the input vector.\n",
    "         * For the linear layer, in each pair (in_size, out_size), the in_size is the feature size of the previous layer and the out_size is the feature size of the output (that goes to the next layer)\n",
    "         * In the linear layer, the weight should have the shape (in_size, out_size).\n",
    "         \n",
    "         *  For example, if layers_arch = [['Linear', (256, 128)], ['ReLU'], ['Linear', (128, 64)], ['ReLU'], ['Linear', (64, 32)]],\n",
    "       * \t\t\t\t\t\t\t then there are three linear layers whose weights are with shapes (256, 128), (128, 64), (64, 32),\n",
    "       * \t\t\t\t\t\t\t and there are two non-linear layers.\n",
    "         *  Attention: * The output feature size of the linear layer i should always equal to the input feature size of the linear layer i+1.\n",
    "       */\n",
    "        '''\n",
    "       \n",
    "        ########## Code start  ##########\n",
    "        \n",
    "        # keep track of the number of layers\n",
    "        self.num_layers = len(layers_arch)\n",
    "        \n",
    "        # begin a list to hold the layers\n",
    "        self.layers = []\n",
    "        \n",
    "        # loop over layers_arch and parse each message, calling the appropriate constructor\n",
    "        # to add a layer type to [layers]\n",
    "        for i in range(0, self.num_layers):\n",
    "            if layers_arch[i][0] == 'Linear':\n",
    "                self.layers.append(LinearLayer(layers_arch[i][1][0], layers_arch[i][1][1]))\n",
    "                \n",
    "            elif layers_arch[i][0] == 'ReLU':\n",
    "                self.layers.append(ReLU())\n",
    "                \n",
    "            elif layers_arch[i][0] == 'LReLU':\n",
    "                self.layers.append(LReLU())\n",
    "                \n",
    "            elif layers_arch[i][0] == 'FReLU':\n",
    "                self.layers.append(FReLU())\n",
    "            \n",
    "            elif layers_arch[i][0] == 'sigmoid':\n",
    "                self.layers.append(sigmoid())\n",
    "        \n",
    "        ##########  Code end   ##########\n",
    "        \n",
    "    def forward(self, X):\n",
    "        '''\n",
    "        /*\n",
    "         * TODO: propagate the input data for the first linear layer throught all the layers in the network and return the output of the last linear layer.\n",
    "         * For implementation, you need to write a for-loop to propagate the input from the first layer to the last layer (before the loss function) by going through the forward functions of all the layers.\n",
    "         * For example, for a network with k linear layers and k-1 activation layers, the data flow is:\n",
    "         * linear[0] -> activation[0] -> linear[1] ->activation[1] -> ... -> linear[k-2] -> activation[k-2] -> linear[k-1]\n",
    "         */\n",
    "        '''\n",
    "        \n",
    "        ########## Code start  ##########\n",
    "        \n",
    "        input = X\n",
    "        \n",
    "        # loop over the layers, forwarding the data through\n",
    "        for i in range(0, self.num_layers):\n",
    "            input = self.layers[i].forward(input)\n",
    "                \n",
    "        return input\n",
    "            \n",
    "        ##########  Code end   ##########\n",
    "\n",
    "    def backward(self, Y_grad):\n",
    "        '''\n",
    "        /* Propagate the gradient from the last layer to the first layer by going through the backward functions of all the layers.\n",
    "         * TODO: propagate the gradient of the output (we got from the Forward method) back throught the network and return the gradient of the first layer.\n",
    "\n",
    "         * Notice: We should use the chain rule for the backward.\n",
    "         * Notice: The order is opposite to the forward.\n",
    "         */\n",
    "        '''\n",
    "        \n",
    "        ########## Code start  ##########\n",
    "        \n",
    "        output = Y_grad\n",
    "        \n",
    "        # loop over the layers backwards, propagating the gradiant backwards\n",
    "        for i in reversed(range(0,self.num_layers)):\n",
    "            output = self.layers[i].backward(output)\n",
    "                \n",
    "        return output\n",
    "       \n",
    "        ##########  Code end   ##########"
   ]
  },
  {
   "cell_type": "markdown",
   "metadata": {},
   "source": [
    "## Checkpoint 3: Regression Network\n",
    "Check your network implementation with a simple regression task. Here we also provide you a sample implementation for the gradient descent algorithm, which you will find useful for your own Classifier implementation.  "
   ]
  },
  {
   "cell_type": "code",
   "execution_count": 13,
   "metadata": {},
   "outputs": [],
   "source": [
    "class Regressor:\n",
    "    #Classifier\n",
    "    def __init__(self, layers_arch, data_function, learning_rate = 1e-3, batch_size = 32, max_epoch = 200):\n",
    "\n",
    "        input_feature_size = 2\n",
    "        output_feature_size = 2\n",
    "\n",
    "        self.train_data = []\n",
    "        self.train_label = []\n",
    "        self.test_data = []\n",
    "        self.test_label = []\n",
    "\n",
    "        self.data_function = data_function\n",
    "        \n",
    "        self.layers_arch = layers_arch\n",
    "        self.net = Network(layers_arch)\n",
    "        self.loss_function = MSELoss()\n",
    "\n",
    "        self.max_epoch = max_epoch\n",
    "        self.batch_size = batch_size\n",
    "        self.learning_rate = learning_rate\n",
    "\n",
    "    def dataloader(self):\n",
    "        \n",
    "        '''\n",
    "        We randomly generate the mapping: (x)->(x^3+x^2 + 1)\n",
    "        '''\n",
    "        self.train_data = np.zeros((1000,1))\n",
    "        self.train_label = np.zeros((1000, 1))\n",
    "\n",
    "        for i in range(1000):\n",
    "            self.train_data[i][0] = np.random.uniform(low=0.0, high=10000.0)/10000.0\n",
    "            self.train_label[i][0] = self.data_function(self.train_data[i][0])\n",
    "\n",
    "        self.test_data = np.zeros((200, 1))\n",
    "        self.test_label = np.zeros((200, 1))\n",
    "\n",
    "        for i in range(200):\n",
    "            self.test_data[i][0] = np.random.uniform(low=-0.0, high=10000.0) / 10000.0\n",
    "            self.test_label[i][0] = self.data_function(self.test_data[i][0])\n",
    "\n",
    "\n",
    "\n",
    "    def Train_One_Epoch(self):\n",
    "        '''\n",
    "        Here we train the network using gradient descent\n",
    "        '''\n",
    "        loss = 0\n",
    "        n_loop = int(math.ceil(len(self.train_data)/self.batch_size))\n",
    "\n",
    "        for i in range(n_loop):\n",
    "            batch_data = self.train_data[i * self.batch_size : (i+1)*self.batch_size]\n",
    "            batch_label = self.train_label[i * self.batch_size : (i+1)*self.batch_size]\n",
    "            \n",
    "            '''\n",
    "            /*  Forward the data to the network.\n",
    "             *  Forward the result to the loss function.\n",
    "             *  Backward.\n",
    "             *  Update the weights with weight gradients.\n",
    "             *  Do not forget the learning rate!\n",
    "             */\n",
    "            '''\n",
    "\n",
    "            ########## Sample code  ##########\n",
    "            \n",
    "            prediction = self.net.forward(batch_data)\n",
    "            loss += self.loss_function.forward(prediction, batch_label)\n",
    "\n",
    "            pred_grad = self.loss_function.backward()\n",
    "            self.net.backward(pred_grad)\n",
    "            \n",
    "            for i in range(len(self.layers_arch)):\n",
    "                if self.layers_arch[i][0] == 'Linear':\n",
    "                    self.net.layers[i].W -= self.net.layers[i].W_grad * self.learning_rate\n",
    "                    \n",
    "            ##########  Sample code ##########\n",
    "            \n",
    "        return loss/n_loop\n",
    "\n",
    "    def Test(self):\n",
    "        prediction = self.net.forward(self.test_data)\n",
    "        loss = self.loss_function.forward(prediction, self.test_label)\n",
    "        return loss\n",
    "\n",
    "    def Train(self):\n",
    "        self.dataloader()\n",
    "        for i in range(self.max_epoch):\n",
    "            train_loss = self.Train_One_Epoch()\n",
    "            test_loss = self.Test()\n",
    "            print(\"Epoch: \", str(i+1), \"/\", str(self.max_epoch), \" | Train loss: \", train_loss, \" | Test loss : \", test_loss)\n"
   ]
  },
  {
   "cell_type": "code",
   "execution_count": 14,
   "metadata": {},
   "outputs": [
    {
     "name": "stdout",
     "output_type": "stream",
     "text": [
      "Epoch:  1 / 200  | Train loss:  6.879474310971992  | Test loss :  6.250539073702829\n",
      "Epoch:  2 / 200  | Train loss:  4.739419869221307  | Test loss :  4.311714472144121\n",
      "Epoch:  3 / 200  | Train loss:  3.3072081660352275  | Test loss :  3.002378776301052\n",
      "Epoch:  4 / 200  | Train loss:  2.3331825815711214  | Test loss :  2.107712125496182\n",
      "Epoch:  5 / 200  | Train loss:  1.664477739555469  | Test loss :  1.4923927877674972\n",
      "Epoch:  6 / 200  | Train loss:  1.2030119190449762  | Test loss :  1.0678727314053011\n",
      "Epoch:  7 / 200  | Train loss:  0.8837835050058916  | Test loss :  0.7747073519092156\n",
      "Epoch:  8 / 200  | Train loss:  0.6627862497397072  | Test loss :  0.5723348384377855\n",
      "Epoch:  9 / 200  | Train loss:  0.509831889495049  | Test loss :  0.43281081728282494\n",
      "Epoch:  10 / 200  | Train loss:  0.4040547702528217  | Test loss :  0.336786266254993\n",
      "Epoch:  11 / 200  | Train loss:  0.3309789764678408  | Test loss :  0.2708363693322451\n",
      "Epoch:  12 / 200  | Train loss:  0.28054856510791476  | Test loss :  0.22564527829083436\n",
      "Epoch:  13 / 200  | Train loss:  0.24577931779989406  | Test loss :  0.19475482008596454\n",
      "Epoch:  14 / 200  | Train loss:  0.22182544736600307  | Test loss :  0.1736951370806654\n",
      "Epoch:  15 / 200  | Train loss:  0.20532975893319405  | Test loss :  0.15937854335518903\n",
      "Epoch:  16 / 200  | Train loss:  0.19397014402069224  | Test loss :  0.14967657209482643\n",
      "Epoch:  17 / 200  | Train loss:  0.1861430655096625  | Test loss :  0.14312510191108888\n",
      "Epoch:  18 / 200  | Train loss:  0.18074291329437084  | Test loss :  0.13871913736167862\n",
      "Epoch:  19 / 200  | Train loss:  0.17700847233407402  | Test loss :  0.13577029611158722\n",
      "Epoch:  20 / 200  | Train loss:  0.17441631210054276  | Test loss :  0.13380807183155757\n",
      "Epoch:  21 / 200  | Train loss:  0.17260691363184213  | Test loss :  0.1325115836986976\n",
      "Epoch:  22 / 200  | Train loss:  0.17133358384770997  | Test loss :  0.13166250319137182\n",
      "Epoch:  23 / 200  | Train loss:  0.17042719288958158  | Test loss :  0.13111265439686462\n",
      "Epoch:  24 / 200  | Train loss:  0.1697718734602768  | Test loss :  0.13076175717650923\n",
      "Epoch:  25 / 200  | Train loss:  0.16928829857025807  | Test loss :  0.13054216597491813\n",
      "Epoch:  26 / 200  | Train loss:  0.16892218869109307  | Test loss :  0.130408423859725\n",
      "Epoch:  27 / 200  | Train loss:  0.16863642148992508  | Test loss :  0.13033012484023254\n",
      "Epoch:  28 / 200  | Train loss:  0.16840561988226158  | Test loss :  0.13028704523437282\n",
      "Epoch:  29 / 200  | Train loss:  0.16821244290736892  | Test loss :  0.1302658288060502\n",
      "Epoch:  30 / 200  | Train loss:  0.16804504537062193  | Test loss :  0.13025773422911044\n",
      "Epoch:  31 / 200  | Train loss:  0.1678953389791446  | Test loss :  0.13025710776191646\n",
      "Epoch:  32 / 200  | Train loss:  0.16775780269325127  | Test loss :  0.1302603502213291\n",
      "Epoch:  33 / 200  | Train loss:  0.1676286691804061  | Test loss :  0.13026522031090573\n",
      "Epoch:  34 / 200  | Train loss:  0.16750536868221463  | Test loss :  0.13027036641343373\n",
      "Epoch:  35 / 200  | Train loss:  0.16738614897756027  | Test loss :  0.13027501324980278\n",
      "Epoch:  36 / 200  | Train loss:  0.16726981576387356  | Test loss :  0.13027875326940003\n",
      "Epoch:  37 / 200  | Train loss:  0.16715555535338336  | Test loss :  0.13028140867191074\n",
      "Epoch:  38 / 200  | Train loss:  0.16704281362009737  | Test loss :  0.130282940905535\n",
      "Epoch:  39 / 200  | Train loss:  0.1669312133752139  | Test loss :  0.13028339194863978\n",
      "Epoch:  40 / 200  | Train loss:  0.16682049798842757  | Test loss :  0.13028284676274787\n",
      "Epoch:  41 / 200  | Train loss:  0.1667104929301213  | Test loss :  0.13028140975947794\n",
      "Epoch:  42 / 200  | Train loss:  0.1666010795469995  | Test loss :  0.1302791904694522\n",
      "Epoch:  43 / 200  | Train loss:  0.16649217718657794  | Test loss :  0.13027629519055411\n",
      "Epoch:  44 / 200  | Train loss:  0.1663837310179233  | Test loss :  0.13027282246774716\n",
      "Epoch:  45 / 200  | Train loss:  0.1662757037376944  | Test loss :  0.13026886098164644\n",
      "Epoch:  46 / 200  | Train loss:  0.16616806992542615  | Test loss :  0.13026448891058875\n",
      "Epoch:  47 / 200  | Train loss:  0.16606081220457178  | Test loss :  0.1302597741575816\n",
      "Epoch:  48 / 200  | Train loss:  0.16595391863385858  | Test loss :  0.13025477505133254\n",
      "Epoch:  49 / 200  | Train loss:  0.16584738093648022  | Test loss :  0.13024954127496557\n",
      "Epoch:  50 / 200  | Train loss:  0.16574119329952075  | Test loss :  0.13024411487105453\n",
      "Epoch:  51 / 200  | Train loss:  0.16563535156121006  | Test loss :  0.13023853123353057\n",
      "Epoch:  52 / 200  | Train loss:  0.1655298526617394  | Test loss :  0.1302328200368579\n",
      "Epoch:  53 / 200  | Train loss:  0.16542469427300502  | Test loss :  0.13022700607806909\n",
      "Epoch:  54 / 200  | Train loss:  0.16531987454967992  | Test loss :  0.13022111002277453\n",
      "Epoch:  55 / 200  | Train loss:  0.16521539196243468  | Test loss :  0.13021514905551837\n",
      "Epoch:  56 / 200  | Train loss:  0.1651112451866799  | Test loss :  0.13020913744001303\n",
      "Epoch:  57 / 200  | Train loss:  0.16500743302875237  | Test loss :  0.13020308699740415\n",
      "Epoch:  58 / 200  | Train loss:  0.16490395437728506  | Test loss :  0.1301970075117201\n",
      "Epoch:  59 / 200  | Train loss:  0.16480080817145587  | Test loss :  0.13019090707172493\n",
      "Epoch:  60 / 200  | Train loss:  0.16469799338050478  | Test loss :  0.1301847923579066\n",
      "Epoch:  61 / 200  | Train loss:  0.1645955089907302  | Test loss :  0.1301786688825767\n",
      "Epoch:  62 / 200  | Train loss:  0.16449335399741996  | Test loss :  0.1301725411901894\n",
      "Epoch:  63 / 200  | Train loss:  0.1643915274000055  | Test loss :  0.13016641302409285\n",
      "Epoch:  64 / 200  | Train loss:  0.16429002819929991  | Test loss :  0.13016028746508784\n",
      "Epoch:  65 / 200  | Train loss:  0.164188855396062  | Test loss :  0.1301541670463889\n",
      "Epoch:  66 / 200  | Train loss:  0.16408800799038425  | Test loss :  0.1301480538488894\n",
      "Epoch:  67 / 200  | Train loss:  0.16398748498157867  | Test loss :  0.13014194958002867\n",
      "Epoch:  68 / 200  | Train loss:  0.16388728536834787  | Test loss :  0.13013585563902738\n",
      "Epoch:  69 / 200  | Train loss:  0.1637874081491065  | Test loss :  0.13012977317081265\n",
      "Epoch:  70 / 200  | Train loss:  0.1636878523223675  | Test loss :  0.13012370311056917\n",
      "Epoch:  71 / 200  | Train loss:  0.16358861688714413  | Test loss :  0.13011764622052627\n",
      "Epoch:  72 / 200  | Train loss:  0.16348970084333594  | Test loss :  0.1301116031203249\n",
      "Epoch:  73 / 200  | Train loss:  0.16339110319208466  | Test loss :  0.13010557431207553\n",
      "Epoch:  74 / 200  | Train loss:  0.16329282293609138  | Test loss :  0.13009956020103036\n",
      "Epoch:  75 / 200  | Train loss:  0.16319485907989462  | Test loss :  0.1300935611126322\n",
      "Epoch:  76 / 200  | Train loss:  0.16309721063010874  | Test loss :  0.13008757730657494\n",
      "Epoch:  77 / 200  | Train loss:  0.16299987659562726  | Test loss :  0.1300816089883944\n",
      "Epoch:  78 / 200  | Train loss:  0.16290285598779347  | Test loss :  0.13007565631902532\n",
      "Epoch:  79 / 200  | Train loss:  0.16280614782054212  | Test loss :  0.13006971942267787\n",
      "Epoch:  80 / 200  | Train loss:  0.16270975111051736  | Test loss :  0.13006379839332913\n",
      "Epoch:  81 / 200  | Train loss:  0.16261366487716847  | Test loss :  0.13005789330007494\n",
      "Epoch:  82 / 200  | Train loss:  0.16251788814282792  | Test loss :  0.13005200419153765\n",
      "Epoch:  83 / 200  | Train loss:  0.16242241993277412  | Test loss :  0.13004613109950014\n",
      "Epoch:  84 / 200  | Train loss:  0.16232725927528102  | Test loss :  0.1300402740418985\n",
      "Epoch:  85 / 200  | Train loss:  0.1622324052016575  | Test loss :  0.13003443302528978\n",
      "Epoch:  86 / 200  | Train loss:  0.1621378567462769  | Test loss :  0.13002860804688254\n",
      "Epoch:  87 / 200  | Train loss:  0.1620436129465998  | Test loss :  0.1300227990962124\n",
      "Epoch:  88 / 200  | Train loss:  0.16194967284319003  | Test loss :  0.1300170061565197\n",
      "Epoch:  89 / 200  | Train loss:  0.16185603547972613  | Test loss :  0.1300112292058871\n",
      "Epoch:  90 / 200  | Train loss:  0.1617626999030076  | Test loss :  0.1300054682181739\n",
      "Epoch:  91 / 200  | Train loss:  0.16166966516295886  | Test loss :  0.1299997231637881\n",
      "Epoch:  92 / 200  | Train loss:  0.16157693031262915  | Test loss :  0.12999399401032025\n",
      "Epoch:  93 / 200  | Train loss:  0.16148449440819054  | Test loss :  0.1299882807230664\n",
      "Epoch:  94 / 200  | Train loss:  0.16139235650893433  | Test loss :  0.12998258326545975\n",
      "Epoch:  95 / 200  | Train loss:  0.1613005156772651  | Test loss :  0.12997690159942382\n",
      "Epoch:  96 / 200  | Train loss:  0.16120897097869402  | Test loss :  0.12997123568566518\n",
      "Epoch:  97 / 200  | Train loss:  0.16111772148183115  | Test loss :  0.12996558548391368\n",
      "Epoch:  98 / 200  | Train loss:  0.1610267662583757  | Test loss :  0.12995995095311996\n",
      "Epoch:  99 / 200  | Train loss:  0.16093610438310768  | Test loss :  0.1299543320516191\n",
      "Epoch:  100 / 200  | Train loss:  0.1608457349338771  | Test loss :  0.12994872873726396\n",
      "Epoch:  101 / 200  | Train loss:  0.1607556569915935  | Test loss :  0.12994314096753545\n",
      "Epoch:  102 / 200  | Train loss:  0.160665869640215  | Test loss :  0.1299375686996335\n",
      "Epoch:  103 / 200  | Train loss:  0.16057637196673755  | Test loss :  0.12993201189055253\n",
      "Epoch:  104 / 200  | Train loss:  0.16048716306118282  | Test loss :  0.12992647049714068\n",
      "Epoch:  105 / 200  | Train loss:  0.16039824201658712  | Test loss :  0.1299209444761523\n",
      "Epoch:  106 / 200  | Train loss:  0.16030960792898943  | Test loss :  0.12991543378428833\n",
      "Epoch:  107 / 200  | Train loss:  0.16022125989741953  | Test loss :  0.12990993837823056\n"
     ]
    },
    {
     "name": "stdout",
     "output_type": "stream",
     "text": [
      "Epoch:  108 / 200  | Train loss:  0.16013319702388648  | Test loss :  0.12990445821466942\n",
      "Epoch:  109 / 200  | Train loss:  0.16004541841336628  | Test loss :  0.12989899325032692\n",
      "Epoch:  110 / 200  | Train loss:  0.15995792317379004  | Test loss :  0.12989354344197535\n",
      "Epoch:  111 / 200  | Train loss:  0.15987071041603226  | Test loss :  0.12988810874645296\n",
      "Epoch:  112 / 200  | Train loss:  0.15978377925389853  | Test loss :  0.12988268912067558\n",
      "Epoch:  113 / 200  | Train loss:  0.1596971288041139  | Test loss :  0.12987728452164793\n",
      "Epoch:  114 / 200  | Train loss:  0.15961075818631087  | Test loss :  0.12987189490647133\n",
      "Epoch:  115 / 200  | Train loss:  0.15952466652301747  | Test loss :  0.12986652023234999\n",
      "Epoch:  116 / 200  | Train loss:  0.15943885293964552  | Test loss :  0.1298611604565975\n",
      "Epoch:  117 / 200  | Train loss:  0.15935331656447896  | Test loss :  0.1298558155366406\n",
      "Epoch:  118 / 200  | Train loss:  0.1592680565286618  | Test loss :  0.12985048543002253\n",
      "Epoch:  119 / 200  | Train loss:  0.15918307196618686  | Test loss :  0.12984517009440624\n",
      "Epoch:  120 / 200  | Train loss:  0.15909836201388364  | Test loss :  0.12983986948757656\n",
      "Epoch:  121 / 200  | Train loss:  0.15901392581140741  | Test loss :  0.12983458356744138\n",
      "Epoch:  122 / 200  | Train loss:  0.15892976250122706  | Test loss :  0.1298293122920337\n",
      "Epoch:  123 / 200  | Train loss:  0.15884587122861424  | Test loss :  0.12982405561951244\n",
      "Epoch:  124 / 200  | Train loss:  0.1587622511416312  | Test loss :  0.12981881350816235\n",
      "Epoch:  125 / 200  | Train loss:  0.15867890139112042  | Test loss :  0.12981358591639583\n",
      "Epoch:  126 / 200  | Train loss:  0.15859582113069262  | Test loss :  0.12980837280275234\n",
      "Epoch:  127 / 200  | Train loss:  0.1585130095167158  | Test loss :  0.12980317412589867\n",
      "Epoch:  128 / 200  | Train loss:  0.15843046570830427  | Test loss :  0.12979798984462929\n",
      "Epoch:  129 / 200  | Train loss:  0.15834818886730712  | Test loss :  0.1297928199178662\n",
      "Epoch:  130 / 200  | Train loss:  0.15826617815829763  | Test loss :  0.1297876643046584\n",
      "Epoch:  131 / 200  | Train loss:  0.15818443274856206  | Test loss :  0.12978252296418227\n",
      "Epoch:  132 / 200  | Train loss:  0.1581029518080888  | Test loss :  0.12977739585574116\n",
      "Epoch:  133 / 200  | Train loss:  0.1580217345095579  | Test loss :  0.1297722829387645\n",
      "Epoch:  134 / 200  | Train loss:  0.15794078002832956  | Test loss :  0.12976718417280825\n",
      "Epoch:  135 / 200  | Train loss:  0.15786008754243394  | Test loss :  0.1297620995175544\n",
      "Epoch:  136 / 200  | Train loss:  0.1577796562325604  | Test loss :  0.12975702893280996\n",
      "Epoch:  137 / 200  | Train loss:  0.15769948528204686  | Test loss :  0.12975197237850725\n",
      "Epoch:  138 / 200  | Train loss:  0.15761957387686926  | Test loss :  0.12974692981470298\n",
      "Epoch:  139 / 200  | Train loss:  0.15753992120563112  | Test loss :  0.1297419012015783\n",
      "Epoch:  140 / 200  | Train loss:  0.15746052645955305  | Test loss :  0.1297368864994379\n",
      "Epoch:  141 / 200  | Train loss:  0.1573813888324626  | Test loss :  0.12973188566870955\n",
      "Epoch:  142 / 200  | Train loss:  0.1573025075207835  | Test loss :  0.12972689866994458\n",
      "Epoch:  143 / 200  | Train loss:  0.15722388172352592  | Test loss :  0.1297219254638158\n",
      "Epoch:  144 / 200  | Train loss:  0.15714551064227592  | Test loss :  0.1297169660111182\n",
      "Epoch:  145 / 200  | Train loss:  0.1570673934811856  | Test loss :  0.1297120202727683\n",
      "Epoch:  146 / 200  | Train loss:  0.15698952944696273  | Test loss :  0.1297070882098036\n",
      "Epoch:  147 / 200  | Train loss:  0.15691191774886087  | Test loss :  0.12970216978338164\n",
      "Epoch:  148 / 200  | Train loss:  0.15683455759866954  | Test loss :  0.12969726495478048\n",
      "Epoch:  149 / 200  | Train loss:  0.1567574482107041  | Test loss :  0.12969237368539746\n",
      "Epoch:  150 / 200  | Train loss:  0.15668058880179592  | Test loss :  0.12968749593674894\n",
      "Epoch:  151 / 200  | Train loss:  0.15660397859128275  | Test loss :  0.12968263167047003\n",
      "Epoch:  152 / 200  | Train loss:  0.1565276168009986  | Test loss :  0.1296777808483139\n",
      "Epoch:  153 / 200  | Train loss:  0.15645150265526464  | Test loss :  0.1296729434321513\n",
      "Epoch:  154 / 200  | Train loss:  0.1563756353808789  | Test loss :  0.12966811938397016\n",
      "Epoch:  155 / 200  | Train loss:  0.15630001420710718  | Test loss :  0.1296633086658756\n",
      "Epoch:  156 / 200  | Train loss:  0.1562246383656733  | Test loss :  0.12965851124008815\n",
      "Epoch:  157 / 200  | Train loss:  0.15614950709074962  | Test loss :  0.12965372706894512\n",
      "Epoch:  158 / 200  | Train loss:  0.1560746196189477  | Test loss :  0.12964895611489877\n",
      "Epoch:  159 / 200  | Train loss:  0.15599997518930855  | Test loss :  0.12964419834051613\n",
      "Epoch:  160 / 200  | Train loss:  0.1559255730432942  | Test loss :  0.129639453708479\n",
      "Epoch:  161 / 200  | Train loss:  0.15585141242477724  | Test loss :  0.12963472218158303\n",
      "Epoch:  162 / 200  | Train loss:  0.15577749258003246  | Test loss :  0.12963000372273756\n",
      "Epoch:  163 / 200  | Train loss:  0.15570381275772735  | Test loss :  0.12962529829496477\n",
      "Epoch:  164 / 200  | Train loss:  0.15563037220891315  | Test loss :  0.12962060586140026\n",
      "Epoch:  165 / 200  | Train loss:  0.15555717018701537  | Test loss :  0.12961592638529124\n",
      "Epoch:  166 / 200  | Train loss:  0.15548420594782522  | Test loss :  0.12961125982999694\n",
      "Epoch:  167 / 200  | Train loss:  0.1554114787494905  | Test loss :  0.12960660615898817\n",
      "Epoch:  168 / 200  | Train loss:  0.15533898785250635  | Test loss :  0.1296019653358465\n",
      "Epoch:  169 / 200  | Train loss:  0.15526673251970685  | Test loss :  0.12959733732426407\n",
      "Epoch:  170 / 200  | Train loss:  0.15519471201625584  | Test loss :  0.12959272208804343\n",
      "Epoch:  171 / 200  | Train loss:  0.15512292560963825  | Test loss :  0.12958811959109626\n",
      "Epoch:  172 / 200  | Train loss:  0.1550513725696516  | Test loss :  0.12958352979744414\n",
      "Epoch:  173 / 200  | Train loss:  0.15498005216839664  | Test loss :  0.12957895267121697\n",
      "Epoch:  174 / 200  | Train loss:  0.1549089636802694  | Test loss :  0.12957438817665373\n",
      "Epoch:  175 / 200  | Train loss:  0.15483810638195225  | Test loss :  0.12956983627810095\n",
      "Epoch:  176 / 200  | Train loss:  0.15476747955240538  | Test loss :  0.12956529694001254\n",
      "Epoch:  177 / 200  | Train loss:  0.1546970824728583  | Test loss :  0.12956077012695047\n",
      "Epoch:  178 / 200  | Train loss:  0.15462691442680135  | Test loss :  0.12955625580358268\n",
      "Epoch:  179 / 200  | Train loss:  0.15455697469997756  | Test loss :  0.129551753934684\n",
      "Epoch:  180 / 200  | Train loss:  0.15448726258037354  | Test loss :  0.1295472644851351\n",
      "Epoch:  181 / 200  | Train loss:  0.15441777735821216  | Test loss :  0.1295427874199223\n",
      "Epoch:  182 / 200  | Train loss:  0.15434851832594337  | Test loss :  0.12953832270413715\n",
      "Epoch:  183 / 200  | Train loss:  0.15427948477823647  | Test loss :  0.12953387030297564\n",
      "Epoch:  184 / 200  | Train loss:  0.15421067601197166  | Test loss :  0.1295294301817388\n",
      "Epoch:  185 / 200  | Train loss:  0.15414209132623208  | Test loss :  0.12952500230583106\n",
      "Epoch:  186 / 200  | Train loss:  0.15407373002229544  | Test loss :  0.1295205866407612\n",
      "Epoch:  187 / 200  | Train loss:  0.15400559140362632  | Test loss :  0.12951618315214034\n",
      "Epoch:  188 / 200  | Train loss:  0.15393767477586764  | Test loss :  0.12951179180568312\n",
      "Epoch:  189 / 200  | Train loss:  0.15386997944683314  | Test loss :  0.1295074125672066\n",
      "Epoch:  190 / 200  | Train loss:  0.15380250472649912  | Test loss :  0.12950304540262972\n",
      "Epoch:  191 / 200  | Train loss:  0.1537352499269967  | Test loss :  0.1294986902779731\n",
      "Epoch:  192 / 200  | Train loss:  0.15366821436260383  | Test loss :  0.1294943471593589\n",
      "Epoch:  193 / 200  | Train loss:  0.15360139734973766  | Test loss :  0.1294900160130101\n",
      "Epoch:  194 / 200  | Train loss:  0.15353479820694652  | Test loss :  0.12948569680525057\n",
      "Epoch:  195 / 200  | Train loss:  0.1534684162549022  | Test loss :  0.1294813895025038\n",
      "Epoch:  196 / 200  | Train loss:  0.15340225081639253  | Test loss :  0.12947709407129362\n",
      "Epoch:  197 / 200  | Train loss:  0.15333630121631323  | Test loss :  0.12947281047824333\n",
      "Epoch:  198 / 200  | Train loss:  0.1532705667816608  | Test loss :  0.12946853869007527\n",
      "Epoch:  199 / 200  | Train loss:  0.15320504684152467  | Test loss :  0.12946427867361027\n",
      "Epoch:  200 / 200  | Train loss:  0.1531397407270795  | Test loss :  0.12946003039576773\n"
     ]
    },
    {
     "data": {
      "text/plain": [
       "0.12946003039576773"
      ]
     },
     "execution_count": 14,
     "metadata": {},
     "output_type": "execute_result"
    }
   ],
   "source": [
    "train_data_path = './MNIST_Sub/train_data.txt'\n",
    "train_labels_path = './MNIST_Sub/train_labels.txt'\n",
    "test_data_path = './MNIST_Sub/test_data.txt'\n",
    "test_labels_path = './MNIST_Sub/test_labels.txt'\n",
    "\n",
    "# regressor\n",
    "regressor_layers_arch = [['Linear', (1, 16)], ['ReLU'], ['Linear', (16, 16)], ['ReLU'], ['Linear', (16, 1)]]\n",
    "def data_function(x):\n",
    "    return np.power(x,3) + pow(x,2) + 1\n",
    "regressor = Regressor(regressor_layers_arch, data_function, learning_rate = 1e-4, batch_size = 32, max_epoch = 200)\n",
    "regressor.Train()\n",
    "\n",
    "regressor.Test()"
   ]
  },
  {
   "cell_type": "markdown",
   "metadata": {},
   "source": [
    "## Task 5: Classfication Network\n",
    "Implement your own classifier with gradient descent. Please read the requirement for Task 5 in the pdf document."
   ]
  },
  {
   "cell_type": "code",
   "execution_count": 15,
   "metadata": {},
   "outputs": [],
   "source": [
    "def One_Hot_Encode(labels, classes = 10):\n",
    "    '''\n",
    "    /*  Make the labels one-hot.\n",
    "     *  For example, if there are 5 classes {0, 1, 2, 3, 4} then\n",
    "     *  [0, 2, 4] -> [[1, 0, 0, 0, 0],\n",
    "     * \t\t\t\t\t\t\t\t[0, 0, 1, 0, 0],\n",
    "     * \t\t\t\t\t\t\t\t[0, 0, 0, 0, 1]]\n",
    "     */\n",
    "    '''\n",
    "    \n",
    "    ########## Code start  ##########\n",
    "    \n",
    "    # initialize resut as all 0s to the correct dimensions\n",
    "    result = np.zeros((labels.shape[0], classes))\n",
    "    # for each row, change the value in the correct column to 1 based on training labels \n",
    "    for i in range(0,labels.shape[0]):\n",
    "        result[i,labels[i]] = 1\n",
    "    \n",
    "    return result\n",
    "\n",
    "    ##########  Code end   ##########"
   ]
  },
  {
   "cell_type": "code",
   "execution_count": 60,
   "metadata": {},
   "outputs": [],
   "source": [
    "class Classifier:\n",
    "    #Classifier\n",
    "    def __init__(self, train_data_path, train_labels_path, test_data_path, test_labels_path, layers_arch, learning_rate = 1e-3, batch_size = 32, max_epoch = 200, classes = 10):\n",
    "        self.classes = classes\n",
    "\n",
    "        self.train_data_path = train_data_path\n",
    "        self.train_labels_path = train_labels_path\n",
    "        self.test_data_path = test_data_path\n",
    "        self.test_labels_path = test_labels_path\n",
    "\n",
    "\n",
    "        self.train_data = [] #The shape of train data should be (n_samples,28^2)\n",
    "        self.train_labels = []\n",
    "        self.test_data = []\n",
    "        self.test_labels = []\n",
    "        \n",
    "        self.layers_arch = layers_arch\n",
    "        self.net = Network(layers_arch)\n",
    "        self.loss_function = MSELoss()\n",
    "\n",
    "        self.max_epoch = max_epoch\n",
    "        self.batch_size = batch_size\n",
    "        self.learning_rate = learning_rate\n",
    "\n",
    "\n",
    "    def dataloader(self):\n",
    "\n",
    "        with open(self.train_data_path, \"r\") as f:\n",
    "            for line in f:\n",
    "                self.train_data.append(np.array(line.strip().split()).astype(np.float64)/255.0)\n",
    "        self.train_data = np.array(self.train_data)\n",
    "\n",
    "        with open(self.train_labels_path, \"r\") as f:\n",
    "            for line in f:\n",
    "                self.train_labels.append(int(line.strip()))\n",
    "        self.train_labels = np.array(self.train_labels)\n",
    "\n",
    "        with open(self.test_data_path, \"r\") as f:\n",
    "            for line in f:\n",
    "                self.test_data.append(np.array(line.strip().split()).astype(np.float64)/255.0)\n",
    "        self.test_data = np.array(self.test_data)\n",
    "\n",
    "        with open(self.test_labels_path, \"r\") as f:\n",
    "            for line in f:\n",
    "                self.test_labels.append(int(line.strip()))\n",
    "        self.test_labels = np.array(self.test_labels)\n",
    "        \n",
    "        # Adding noise to train and test data\n",
    "        \n",
    "        for i in range(0, self.train_data.shape[0]):\n",
    "            for j in range(0, self.train_data.shape[1]):\n",
    "            # add a value from 0 to 0.0001, randomly, to each index of train_data\n",
    "                self.train_data[i,j] += np.random.uniform(0,0.0001)\n",
    "                    \n",
    "        for i in range(0, self.test_data.shape[0]):\n",
    "            for j in range(0, self.test_data.shape[1]):\n",
    "            # add a value from 0 to 0.0001, randomly, to each index of test_data\n",
    "                self.test_data[i,j] += np.random.uniform(0,0.0001)\n",
    "\n",
    "\n",
    "    def Train_One_Epoch(self):\n",
    "        '''\n",
    "        Here we train the network using gradient descent\n",
    "        '''\n",
    "        loss = 0\n",
    "        n_loop = int(math.ceil(len(self.train_data) / self.batch_size))\n",
    "        for i in range(n_loop):\n",
    "            batch_data = self.train_data[i * self.batch_size: (i + 1) * self.batch_size]\n",
    "            batch_label = self.train_labels[i * self.batch_size: (i + 1) * self.batch_size]\n",
    "            batch_one_hot_label = One_Hot_Encode(batch_label, classes = self.classes)\n",
    "            \n",
    "            '''\n",
    "             /*  Forward the data to the network.\n",
    "             *  Forward the result to the loss function.\n",
    "             *  Backward.\n",
    "             *  Update the weights with weight gradients.\n",
    "             *  Do not forget the learning rate!\n",
    "             */\n",
    "            '''\n",
    "            \n",
    "            ########## Code start  ##########\n",
    "\n",
    "            prediction = self.net.forward(batch_data)\n",
    "            \n",
    "            # the one line changed from the sample code (batch_label became batch_one_hot_label)\n",
    "            loss += self.loss_function.forward(prediction, batch_one_hot_label)\n",
    "\n",
    "            pred_grad = self.loss_function.backward()\n",
    "            self.net.backward(pred_grad)\n",
    "            \n",
    "            for i in range(len(self.layers_arch)):\n",
    "                if self.layers_arch[i][0] == 'Linear':\n",
    "                    self.net.layers[i].W -= self.net.layers[i].W_grad * self.learning_rate\n",
    "        \n",
    "            ##########  Code end   ##########\n",
    "        \n",
    "        return loss / n_loop\n",
    "\n",
    "    def Test(self):\n",
    "        '''\n",
    "        the class with max score is our predicted label\n",
    "        '''\n",
    "        score = self.net.forward(self.test_data)\n",
    "        accuracy = 0\n",
    "        for i in range(np.shape(score)[0]):\n",
    "            one_label_list = score[i].tolist()\n",
    "            label_pred = one_label_list.index(max(one_label_list))\n",
    "            if label_pred == self.test_labels[i]:\n",
    "                accuracy = accuracy +1\n",
    "\n",
    "        accuracy = accuracy/np.shape(score)[0]\n",
    "        return accuracy\n",
    "\n",
    "    def Train(self):\n",
    "        self.dataloader()\n",
    "        \n",
    "        y_coords_loss = []\n",
    "        y_coords_accuracy = []\n",
    "        x_coords = []\n",
    "            \n",
    "        for i in range(self.max_epoch):\n",
    "            loss = self.Train_One_Epoch()\n",
    "            accuray = self.Test()\n",
    "            #print(\"Epoch: \", str(i+1), \"/\", str(self.max_epoch), \" | Train loss: \", loss, \" | Test Accuracy : \", accuray)\n",
    "\n",
    "            x_coords.append(str(i+1))\n",
    "            y_coords_loss.append(loss)\n",
    "            y_coords_accuracy.append(accuray)\n",
    "        \n",
    "        \n",
    "#         fig = plt.figure()\n",
    "#         plt.plot(x_coords,y_coords_loss, color=\"blue\", linewidth=1.0, linestyle=\"-\")\n",
    "#         plt.xticks([0,99,199,299])\n",
    "#         plt.yticks([0,0.25,0.5,0.75,1])\n",
    "#         plt.ylabel('Loss')\n",
    "#         plt.xlabel('Epoch')\n",
    "#         plt.title('Loss')\n",
    "#         plt.show()\n",
    "        \n",
    "#         fig = plt.figure()\n",
    "#         plt.plot(x_coords,y_coords_accuracy, color=\"red\", linewidth=1.0, linestyle=\"-\")\n",
    "#         plt.xticks([0,99,199,299])\n",
    "#         plt.yticks([0,0.25,0.5,0.75,1])\n",
    "#         plt.ylabel('Accuracy')\n",
    "#         plt.xlabel('Epoch')\n",
    "#         plt.title('Accuracy')\n",
    "#         plt.show()\n",
    "\n",
    "        fig, axs = plt.subplots(1,2)\n",
    "        fig.tight_layout(pad=0.0)\n",
    "        fig.set_size_inches(14,5)\n",
    "        \n",
    "        \n",
    "        axs[0].plot(x_coords,y_coords_loss, color=\"blue\", linewidth=1.0, linestyle=\"-\")\n",
    "        plt.sca(axs[0])\n",
    "        plt.xticks([0,99,199,299])\n",
    "        plt.yticks([0,0.25,0.5,0.75,1])\n",
    "        plt.ylabel('Loss')\n",
    "        plt.xlabel('Epoch')\n",
    "        plt.title('Loss')\n",
    "        plt.show()\n",
    "        \n",
    "        axs[1].plot(x_coords,y_coords_accuracy, color=\"red\", linewidth=1.0, linestyle=\"-\")\n",
    "        plt.sca(axs[1])\n",
    "        plt.xticks([0,99,199,299])\n",
    "        plt.yticks([0,0.25,0.5,0.75,1])\n",
    "        plt.ylabel('Accuracy')\n",
    "        plt.xlabel('Epoch')\n",
    "        plt.title('Accuracy')\n",
    "        plt.show()\n",
    "\n"
   ]
  },
  {
   "cell_type": "markdown",
   "metadata": {},
   "source": [
    "## Evaluation\n",
    "That's it! Congratulations on finishing everything. Now try your network on MNIST!\n",
    "\n",
    "Normal architecture with ReLU:"
   ]
  },
  {
   "cell_type": "code",
   "execution_count": 89,
   "metadata": {},
   "outputs": [
    {
     "data": {
      "image/png": "[encoded data removed]",
      "text/plain": [
       "<Figure size 1008x360 with 2 Axes>"
      ]
     },
     "metadata": {
      "needs_background": "light"
     },
     "output_type": "display_data"
    },
    {
     "data": {
      "image/png": "[encoded data removed]",
      "text/plain": [
       "<Figure size 1008x360 with 2 Axes>"
      ]
     },
     "metadata": {
      "needs_background": "light"
     },
     "output_type": "display_data"
    },
    {
     "data": {
      "text/plain": [
       "0.595"
      ]
     },
     "execution_count": 89,
     "metadata": {},
     "output_type": "execute_result"
    }
   ],
   "source": [
    "train_data_path = './MNIST_Sub/train_data.txt'\n",
    "train_labels_path = './MNIST_Sub/train_labels.txt'\n",
    "test_data_path = './MNIST_Sub/test_data.txt'\n",
    "test_labels_path = './MNIST_Sub/test_labels.txt'\n",
    "\n",
    "\n",
    "#classifier\n",
    "classifier_layers_arch = [['Linear', (28*28, 256)], ['ReLU'], ['Linear', (256, 10)]]\n",
    "cls = Classifier(train_data_path, train_labels_path, test_data_path, test_labels_path, layers_arch = classifier_layers_arch, learning_rate = 0.01, batch_size = 32, max_epoch = 300)\n",
    "cls.Train()\n",
    "cls.Test()"
   ]
  },
  {
   "cell_type": "markdown",
   "metadata": {},
   "source": [
    "## Dessert Task: Replace ReLU with alternative nonlinear activation functions\n",
    "I added three new nonlinear functions: LReLU, FReLU, and sigmoid\n",
    "(I ran these cells without printing a statement after each iteration to make my solution more compact)"
   ]
  },
  {
   "cell_type": "code",
   "execution_count": 69,
   "metadata": {},
   "outputs": [
    {
     "data": {
      "image/png": "[encoded data removed]",
      "text/plain": [
       "<Figure size 1008x360 with 2 Axes>"
      ]
     },
     "metadata": {
      "needs_background": "light"
     },
     "output_type": "display_data"
    },
    {
     "data": {
      "image/png": "[encoded data removed]",
      "text/plain": [
       "<Figure size 1008x360 with 2 Axes>"
      ]
     },
     "metadata": {
      "needs_background": "light"
     },
     "output_type": "display_data"
    },
    {
     "data": {
      "text/plain": [
       "0.755"
      ]
     },
     "execution_count": 69,
     "metadata": {},
     "output_type": "execute_result"
    }
   ],
   "source": [
    "train_data_path = './MNIST_Sub/train_data.txt'\n",
    "train_labels_path = './MNIST_Sub/train_labels.txt'\n",
    "test_data_path = './MNIST_Sub/test_data.txt'\n",
    "test_labels_path = './MNIST_Sub/test_labels.txt'\n",
    "\n",
    "\n",
    "#classifier\n",
    "classifier_layers_arch = [['Linear', (28*28, 256)], ['LReLU'], ['Linear', (256, 10)]]\n",
    "cls = Classifier(train_data_path, train_labels_path, test_data_path, test_labels_path, layers_arch = classifier_layers_arch, learning_rate = 0.01, batch_size = 256, max_epoch = 300)\n",
    "cls.Train()\n",
    "cls.Test()"
   ]
  },
  {
   "cell_type": "code",
   "execution_count": 79,
   "metadata": {},
   "outputs": [
    {
     "data": {
      "image/png": "[encoded data removed]",
      "text/plain": [
       "<Figure size 1008x360 with 2 Axes>"
      ]
     },
     "metadata": {
      "needs_background": "light"
     },
     "output_type": "display_data"
    },
    {
     "data": {
      "image/png": "[encoded data removed]",
      "text/plain": [
       "<Figure size 1008x360 with 2 Axes>"
      ]
     },
     "metadata": {
      "needs_background": "light"
     },
     "output_type": "display_data"
    },
    {
     "data": {
      "text/plain": [
       "0.755"
      ]
     },
     "execution_count": 79,
     "metadata": {},
     "output_type": "execute_result"
    }
   ],
   "source": [
    "train_data_path = './MNIST_Sub/train_data.txt'\n",
    "train_labels_path = './MNIST_Sub/train_labels.txt'\n",
    "test_data_path = './MNIST_Sub/test_data.txt'\n",
    "test_labels_path = './MNIST_Sub/test_labels.txt'\n",
    "\n",
    "\n",
    "#classifier\n",
    "classifier_layers_arch = [['Linear', (28*28, 256)], ['FReLU'], ['Linear', (256, 10)]]\n",
    "cls = Classifier(train_data_path, train_labels_path, test_data_path, test_labels_path, layers_arch = classifier_layers_arch, learning_rate = 0.01, batch_size = 256, max_epoch = 300)\n",
    "cls.Train()\n",
    "cls.Test()"
   ]
  },
  {
   "cell_type": "code",
   "execution_count": 71,
   "metadata": {},
   "outputs": [
    {
     "data": {
      "image/png": "[encoded data removed]",
      "text/plain": [
       "<Figure size 1008x360 with 2 Axes>"
      ]
     },
     "metadata": {
      "needs_background": "light"
     },
     "output_type": "display_data"
    },
    {
     "data": {
      "image/png": "[encoded data removed]",
      "text/plain": [
       "<Figure size 1008x360 with 2 Axes>"
      ]
     },
     "metadata": {
      "needs_background": "light"
     },
     "output_type": "display_data"
    },
    {
     "data": {
      "text/plain": [
       "0.76"
      ]
     },
     "execution_count": 71,
     "metadata": {},
     "output_type": "execute_result"
    }
   ],
   "source": [
    "train_data_path = './MNIST_Sub/train_data.txt'\n",
    "train_labels_path = './MNIST_Sub/train_labels.txt'\n",
    "test_data_path = './MNIST_Sub/test_data.txt'\n",
    "test_labels_path = './MNIST_Sub/test_labels.txt'\n",
    "\n",
    "\n",
    "#classifier\n",
    "classifier_layers_arch = [['Linear', (28*28, 256)], ['sigmoid'], ['Linear', (256, 10)]]\n",
    "cls = Classifier(train_data_path, train_labels_path, test_data_path, test_labels_path, layers_arch = classifier_layers_arch, learning_rate = 0.01, batch_size = 256, max_epoch = 300)\n",
    "cls.Train()\n",
    "cls.Test()"
   ]
  },
  {
   "cell_type": "markdown",
   "metadata": {},
   "source": [
    "## Dessert Task: Design a new network architecture\n",
    "[1linear] → [2nonlinears] → [1linear] → [2nonlinears] → [1linear]"
   ]
  },
  {
   "cell_type": "code",
   "execution_count": 72,
   "metadata": {},
   "outputs": [
    {
     "data": {
      "image/png": "[encoded data removed]",
      "text/plain": [
       "<Figure size 1008x360 with 2 Axes>"
      ]
     },
     "metadata": {
      "needs_background": "light"
     },
     "output_type": "display_data"
    },
    {
     "data": {
      "image/png": "[encoded data removed]",
      "text/plain": [
       "<Figure size 1008x360 with 2 Axes>"
      ]
     },
     "metadata": {
      "needs_background": "light"
     },
     "output_type": "display_data"
    },
    {
     "data": {
      "text/plain": [
       "0.755"
      ]
     },
     "execution_count": 72,
     "metadata": {},
     "output_type": "execute_result"
    }
   ],
   "source": [
    "train_data_path = './MNIST_Sub/train_data.txt'\n",
    "train_labels_path = './MNIST_Sub/train_labels.txt'\n",
    "test_data_path = './MNIST_Sub/test_data.txt'\n",
    "test_labels_path = './MNIST_Sub/test_labels.txt'\n",
    "\n",
    "\n",
    "#classifier\n",
    "classifier_layers_arch = [['Linear', (28*28, 256)], ['LReLU'],['sigmoid'],['Linear', (256, 256)],['LReLU'],['sigmoid'],['Linear', (256, 10)]]\n",
    "cls = Classifier(train_data_path, train_labels_path, test_data_path, test_labels_path, layers_arch = classifier_layers_arch, learning_rate = 0.01, batch_size = 256, max_epoch = 300)\n",
    "cls.Train()\n",
    "cls.Test()"
   ]
  },
  {
   "cell_type": "markdown",
   "metadata": {},
   "source": [
    "[1linear] → [3nonlinears] → [1linear] → [3nonlinears] → [1linear]"
   ]
  },
  {
   "cell_type": "code",
   "execution_count": 77,
   "metadata": {},
   "outputs": [
    {
     "data": {
      "image/png": "[encoded data removed]",
      "text/plain": [
       "<Figure size 1008x360 with 2 Axes>"
      ]
     },
     "metadata": {
      "needs_background": "light"
     },
     "output_type": "display_data"
    },
    {
     "data": {
      "image/png": "[encoded data removed]",
      "text/plain": [
       "<Figure size 1008x360 with 2 Axes>"
      ]
     },
     "metadata": {
      "needs_background": "light"
     },
     "output_type": "display_data"
    },
    {
     "data": {
      "text/plain": [
       "0.74"
      ]
     },
     "execution_count": 77,
     "metadata": {},
     "output_type": "execute_result"
    }
   ],
   "source": [
    "train_data_path = './MNIST_Sub/train_data.txt'\n",
    "train_labels_path = './MNIST_Sub/train_labels.txt'\n",
    "test_data_path = './MNIST_Sub/test_data.txt'\n",
    "test_labels_path = './MNIST_Sub/test_labels.txt'\n",
    "\n",
    "\n",
    "#classifier\n",
    "classifier_layers_arch = [['Linear', (28*28, 256)], ['sigmoid'],['LReLU'],['sigmoid'],['Linear', (256, 256)],['sigmoid'],['LReLU'],['sigmoid'],['Linear', (256, 10)]]\n",
    "cls = Classifier(train_data_path, train_labels_path, test_data_path, test_labels_path, layers_arch = classifier_layers_arch, learning_rate = 0.01, batch_size = 256, max_epoch = 300)\n",
    "cls.Train()\n",
    "cls.Test()"
   ]
  },
  {
   "cell_type": "markdown",
   "metadata": {},
   "source": [
    "[1linear] → [2nonlinears] → [2linears] → [2nonlinears] → [1linear]"
   ]
  },
  {
   "cell_type": "code",
   "execution_count": 74,
   "metadata": {},
   "outputs": [
    {
     "data": {
      "image/png": "[encoded data removed]",
      "text/plain": [
       "<Figure size 1008x360 with 2 Axes>"
      ]
     },
     "metadata": {
      "needs_background": "light"
     },
     "output_type": "display_data"
    },
    {
     "data": {
      "image/png": "[encoded data removed]",
      "text/plain": [
       "<Figure size 1008x360 with 2 Axes>"
      ]
     },
     "metadata": {
      "needs_background": "light"
     },
     "output_type": "display_data"
    },
    {
     "data": {
      "text/plain": [
       "0.755"
      ]
     },
     "execution_count": 74,
     "metadata": {},
     "output_type": "execute_result"
    }
   ],
   "source": [
    "train_data_path = './MNIST_Sub/train_data.txt'\n",
    "train_labels_path = './MNIST_Sub/train_labels.txt'\n",
    "test_data_path = './MNIST_Sub/test_data.txt'\n",
    "test_labels_path = './MNIST_Sub/test_labels.txt'\n",
    "\n",
    "\n",
    "#classifier\n",
    "classifier_layers_arch = [['Linear', (28*28, 256)], ['FReLU'],['sigmoid'],['Linear', (256, 256)],['Linear', (256, 256)],['FReLU'],['sigmoid'],['Linear', (256, 10)]]\n",
    "cls = Classifier(train_data_path, train_labels_path, test_data_path, test_labels_path, layers_arch = classifier_layers_arch, learning_rate = 0.01, batch_size = 256, max_epoch = 300)\n",
    "cls.Train()\n",
    "cls.Test()"
   ]
  },
  {
   "cell_type": "code",
   "execution_count": null,
   "metadata": {},
   "outputs": [],
   "source": []
  }
 ],
 "metadata": {
  "kernelspec": {
   "display_name": "Python 3",
   "language": "python",
   "name": "python3"
  },
  "language_info": {
   "codemirror_mode": {
    "name": "ipython",
    "version": 3
   },
   "file_extension": ".py",
   "mimetype": "text/x-python",
   "name": "python",
   "nbconvert_exporter": "python",
   "pygments_lexer": "ipython3",
   "version": "3.8.8"
  }
 },
 "nbformat": 4,
 "nbformat_minor": 2
}
